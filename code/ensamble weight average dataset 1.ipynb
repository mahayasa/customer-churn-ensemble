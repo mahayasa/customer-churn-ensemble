{
 "cells": [
  {
   "cell_type": "code",
   "execution_count": 18,
   "id": "73cf462d",
   "metadata": {},
   "outputs": [
    {
     "name": "stdout",
     "output_type": "stream",
     "text": [
      "[0.8303782991859954, 0.8510105917792246, 0.8002035011922292]\n",
      "Weighted Avg AUC ROC: 85.098\n",
      "STD AUC ROC: 0.000\n",
      "--- 4.334323167800903 seconds ---\n"
     ]
    }
   ],
   "source": [
    "# ORIGINAL CODE : https://machinelearningmastery.com/weighted-average-ensemble-with-python/\n",
    "# By Jason Brownlee - MAY 2021\n",
    "\n",
    "# Modifed by MAHAYASA ADIPUTRA - OCT 2022\n",
    "import time\n",
    "import matplotlib.pyplot as plt\n",
    "from sklearn.metrics import plot_confusion_matrix\n",
    "from sklearn.datasets import make_classification\n",
    "from sklearn.model_selection import train_test_split\n",
    "from sklearn.metrics import confusion_matrix ,accuracy_score\n",
    "from sklearn.metrics import roc_curve, roc_auc_score\n",
    "from xgboost import XGBClassifier\n",
    "from sklearn.ensemble import RandomForestClassifier\n",
    "from sklearn.ensemble import AdaBoostClassifier\n",
    "from sklearn.ensemble import VotingClassifier\n",
    "from imblearn.over_sampling import SMOTE\n",
    "from sklearn.preprocessing import LabelEncoder\n",
    "import sklearn.metrics as mt\n",
    "from sklearn.model_selection import KFold\n",
    "from sklearn.model_selection import cross_val_score\n",
    "import pandas as pd\n",
    "import numpy as np\n",
    "from numpy import mean\n",
    "from numpy import std\n",
    "from sklearn.model_selection import cross_val_predict\n",
    "\n",
    "le = LabelEncoder()\n",
    "start_time = time.time()\n",
    "# get the dataset\n",
    "# Importing the dataset\n",
    "dataset=pd.read_csv('../../data/dataset1.csv')\n",
    "dataset=dataset.dropna()\n",
    "dataset=dataset.fillna(0)\n",
    "\n",
    "#transform data into numeric value\n",
    "dataset['Partner']=le.fit_transform(dataset['Partner'])\n",
    "dataset['Dependents']=le.fit_transform(dataset['Dependents'])\n",
    "dataset['PhoneService']=le.fit_transform(dataset['PhoneService'])\n",
    "dataset['MultipleLines']=le.fit_transform(dataset['MultipleLines'])\n",
    "dataset['InternetService']=le.fit_transform(dataset['InternetService'])\n",
    "dataset['OnlineSecurity']=le.fit_transform(dataset['OnlineSecurity'])\n",
    "dataset['DeviceProtection']=le.fit_transform(dataset['DeviceProtection'])\n",
    "dataset['TechSupport']=le.fit_transform(dataset['TechSupport'])\n",
    "dataset['StreamingTV']=le.fit_transform(dataset['StreamingTV'])\n",
    "dataset['StreamingMovies']=le.fit_transform(dataset['StreamingMovies'])\n",
    "dataset['Contract']=le.fit_transform(dataset['Contract'])\n",
    "dataset['PaperlessBilling']=le.fit_transform(dataset['PaperlessBilling'])\n",
    "dataset['PaymentMethod']=le.fit_transform(dataset['PaymentMethod'])\n",
    "dataset['gender']=le.fit_transform(dataset['gender'])\n",
    "dataset['OnlineBackup']=le.fit_transform(dataset['OnlineBackup'])\n",
    "\n",
    "#filling missing value with mean\n",
    "dataset['TotalCharges'].replace(to_replace = 0, value = dataset['TotalCharges'].mean(), inplace=True)\n",
    "X=dataset.drop(['Churn','customerID'],axis=1)\n",
    "y=dataset[\"Churn\"]\n",
    "y = le.fit_transform(y)\n",
    "#imblearn SMOTE\n",
    "smote = SMOTE(random_state=42)\n",
    "X, y = smote.fit_resample(X, y)\n",
    "\n",
    "\n",
    "# get a list of base models\n",
    "def get_models():\n",
    "\tmodels = list()\n",
    "\tmodels.append(('xb', XGBClassifier(colsample_bytree=0.6, max_depth = 5, gamma=1.5, min_child_weight=5)))\n",
    "\tmodels.append(('rf', RandomForestClassifier(n_estimators =100, criterion = 'gini', random_state = 0)))\n",
    "\tmodels.append(('ab', AdaBoostClassifier(n_estimators=100,learning_rate=0.1,algorithm='SAMME.R')))\n",
    "\treturn models\n",
    " \n",
    "# evaluate each base model\n",
    "def evaluate_models(models, X_train, X_val, y_train, y_val):\n",
    "\t# fit and evaluate the models\n",
    "\tscores = list()\n",
    "\tfor name, model in models:\n",
    "\t\t# fit the model\n",
    "\t\tmodel.fit(X_train, y_train)\n",
    "\t\t# evaluate the model\n",
    "\t\tyhat = model.predict(X_val)\n",
    "\t\tacc = roc_auc_score(y_val, yhat)\n",
    "\t\t# store the performance\n",
    "\t\tscores.append(acc)\n",
    "\t\t# report model performance\n",
    "\treturn scores\n",
    "\n",
    "X_train, X_val, y_train, y_val = train_test_split(X, y, test_size=0.20, random_state=1)\n",
    "\n",
    "# create the base models\n",
    "models = get_models()\n",
    "# fit and evaluate each model\n",
    "scores = evaluate_models(models, X_train, X_val, y_train, y_val)\n",
    "print(scores)\n",
    "# create the ensemble\n",
    "ensemble = VotingClassifier(estimators=models, voting='soft', weights=scores)\n",
    "ensemble.fit(X_train, y_train)\n",
    "# make predictions on test set\n",
    "yhat = ensemble.predict(X_val)\n",
    "# evaluate predictions\n",
    "score = roc_auc_score(y_val, yhat)\n",
    "print('Weighted Avg AUC ROC: %.3f' % (mean(score)*100))\n",
    "print('STD AUC ROC: %.3f' % (std(score)))\n",
    "print(\"--- %s seconds ---\" % (time.time() - start_time))"
   ]
  },
  {
   "cell_type": "code",
   "execution_count": 56,
   "id": "e7ba1d24",
   "metadata": {},
   "outputs": [
    {
     "data": {
      "text/plain": [
       "<AxesSubplot:>"
      ]
     },
     "execution_count": 56,
     "metadata": {},
     "output_type": "execute_result"
    },
    {
     "data": {
      "image/png": "[encoded data removed]",
      "text/plain": [
       "<Figure size 432x288 with 2 Axes>"
      ]
     },
     "metadata": {
      "needs_background": "light"
     },
     "output_type": "display_data"
    }
   ],
   "source": [
    "import seaborn as sns\n",
    "cm = confusion_matrix(y_val, yhat)\n",
    "sns.heatmap(cm, annot=True,fmt=\".1f\")"
   ]
  },
  {
   "cell_type": "code",
   "execution_count": null,
   "id": "983d9fe1",
   "metadata": {},
   "outputs": [],
   "source": []
  },
  {
   "cell_type": "code",
   "execution_count": 19,
   "id": "252caf85",
   "metadata": {},
   "outputs": [
    {
     "name": "stdout",
     "output_type": "stream",
     "text": [
      "The precision  is - \n",
      "0.8261278195488722\n",
      "The recall o is - \n",
      "0.8754980079681275\n",
      "The F1 Score is - \n",
      "0.8500967117988394\n"
     ]
    }
   ],
   "source": [
    "import sklearn.metrics as mt\n",
    "print (\"The precision  is - \")\n",
    "print (mt.precision_score(y_val, yhat))\n",
    "print (\"The recall o is - \")\n",
    "print (mt.recall_score(y_val, yhat))\n",
    "print (\"The F1 Score is - \")\n",
    "print (mt.f1_score(y_val, yhat))"
   ]
  },
  {
   "cell_type": "code",
   "execution_count": null,
   "id": "992ead8a",
   "metadata": {},
   "outputs": [],
   "source": []
  },
  {
   "cell_type": "code",
   "execution_count": null,
   "id": "172773f4",
   "metadata": {},
   "outputs": [],
   "source": []
  },
  {
   "cell_type": "code",
   "execution_count": null,
   "id": "df83f89b",
   "metadata": {},
   "outputs": [],
   "source": []
  }
 ],
 "metadata": {
  "kernelspec": {
   "display_name": "Python 3 (ipykernel)",
   "language": "python",
   "name": "python3"
  },
  "language_info": {
   "codemirror_mode": {
    "name": "ipython",
    "version": 3
   },
   "file_extension": ".py",
   "mimetype": "text/x-python",
   "name": "python",
   "nbconvert_exporter": "python",
   "pygments_lexer": "ipython3",
   "version": "3.9.12"
  }
 },
 "nbformat": 4,
 "nbformat_minor": 5
}
