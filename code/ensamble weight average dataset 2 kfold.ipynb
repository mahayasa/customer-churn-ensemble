{
 "cells": [
  {
   "cell_type": "code",
   "execution_count": 2,
   "id": "8d53e2e2",
   "metadata": {},
   "outputs": [
    {
     "name": "stdout",
     "output_type": "stream",
     "text": [
      "[0.989157656979201, 0.9206577427041053]\n",
      "Weighted Avg AUC ROC: 98.838\n",
      "STD AUC ROC: 0.001\n",
      "--- 191.02279376983643 seconds ---\n"
     ]
    }
   ],
   "source": [
    "# ORIGINAL CODE : https://machinelearningmastery.com/weighted-average-ensemble-with-python/\n",
    "# By Jason Brownlee - MAY 2021\n",
    "\n",
    "# Modifed by MAHAYASA ADIPUTRA - OCT 2022\n",
    "import time\n",
    "import matplotlib.pyplot as plt\n",
    "from sklearn.metrics import plot_confusion_matrix\n",
    "from sklearn.datasets import make_classification\n",
    "from sklearn.model_selection import train_test_split\n",
    "from sklearn.metrics import confusion_matrix ,accuracy_score\n",
    "from sklearn.metrics import roc_curve, roc_auc_score\n",
    "from xgboost import XGBClassifier\n",
    "from sklearn.ensemble import RandomForestClassifier\n",
    "from sklearn.ensemble import AdaBoostClassifier\n",
    "from sklearn.ensemble import VotingClassifier\n",
    "from imblearn.over_sampling import SMOTE\n",
    "from sklearn.preprocessing import LabelEncoder\n",
    "import sklearn.metrics as mt\n",
    "import pandas as pd\n",
    "from sklearn.model_selection import KFold\n",
    "from sklearn.model_selection import cross_val_score\n",
    "from sklearn.model_selection import cross_val_predict\n",
    "from numpy import mean\n",
    "from numpy import std\n",
    "le = LabelEncoder()\n",
    "start_time = time.time()\n",
    "# get the dataset\n",
    "# Importing the dataset\n",
    "dataset=pd.read_csv('../../data/dataset2.csv')\n",
    "dataset=dataset.dropna()\n",
    "dataset=dataset.fillna(0)\n",
    "\n",
    "X=dataset.drop(['labels'],axis=1)\n",
    "y=dataset[\"labels\"]\n",
    "y = le.fit_transform(y)\n",
    "#use imblearn SMOTE\n",
    "smote = SMOTE(random_state=42)\n",
    "#smote=SVMSMOTE(random_state=42)\n",
    "X, y = smote.fit_resample(X, y)\n",
    "\n",
    "#kfold cross validation\n",
    "cv = KFold(n_splits=10, random_state=1, shuffle=True)\n",
    " \n",
    "# get a list of base models\n",
    "def get_models():\n",
    "\tmodels = list()\n",
    "\tmodels.append(('xb', XGBClassifier(colsample_bytree=0.6, max_depth = 5, gamma=1.5, min_child_weight=5)))\n",
    "#\tmodels.append(('rf', RandomForestClassifier(n_estimators =100, criterion = 'gini', random_state = 0)))\n",
    "\tmodels.append(('ab', AdaBoostClassifier(n_estimators=100,learning_rate=0.1,algorithm='SAMME.R')))\n",
    "\treturn models\n",
    " \n",
    "# evaluate each base model\n",
    "def evaluate_models(models, X,y):\n",
    "\t# fit and evaluate the models\n",
    "\tscores = list()\n",
    "\tfor name, model in models:\n",
    "\t\t# evaluate the model\n",
    "\t\tacc=cross_val_score(model, X, y, scoring='roc_auc', cv=cv, n_jobs=-1)\n",
    "\t\t# store the performance\n",
    "\t\tscores.append(mean(acc))\n",
    "\t\t# report model performance\n",
    "\treturn scores\n",
    "\n",
    "\n",
    "\n",
    "# create the base models\n",
    "models = get_models()\n",
    "# fit and evaluate each model\n",
    "scores = evaluate_models(models, X,y)\n",
    "print(scores)\n",
    "# create the ensemble\n",
    "ensemble = VotingClassifier(estimators=models, voting='soft', weights=scores)\n",
    "score=cross_val_score(ensemble, X, y, scoring='roc_auc', cv=cv, n_jobs=-1)\n",
    "print('Weighted Avg AUC ROC: %.3f' % (mean(score)*100))\n",
    "print('STD AUC ROC: %.3f' % (std(score)))\n",
    "print(\"--- %s seconds ---\" % (time.time() - start_time))"
   ]
  },
  {
   "cell_type": "code",
   "execution_count": 11,
   "id": "63f5cff8",
   "metadata": {},
   "outputs": [
    {
     "data": {
      "text/plain": [
       "<AxesSubplot:>"
      ]
     },
     "execution_count": 11,
     "metadata": {},
     "output_type": "execute_result"
    },
    {
     "data": {
      "image/png": "[encoded data removed]",
      "text/plain": [
       "<Figure size 432x288 with 2 Axes>"
      ]
     },
     "metadata": {
      "needs_background": "light"
     },
     "output_type": "display_data"
    }
   ],
   "source": [
    "y_pred = cross_val_predict(ensemble, X, y, cv=cv)\n",
    "import seaborn as sns\n",
    "cm = confusion_matrix(y, y_pred)\n",
    "sns.heatmap(cm, annot=True,fmt=\".1f\")"
   ]
  },
  {
   "cell_type": "code",
   "execution_count": 3,
   "id": "59187603",
   "metadata": {},
   "outputs": [
    {
     "data": {
      "text/plain": [
       "0.9435659005372159"
      ]
     },
     "execution_count": 3,
     "metadata": {},
     "output_type": "execute_result"
    }
   ],
   "source": [
    "pr=cross_val_score(ensemble, X, y, scoring='precision', cv=cv, n_jobs=-1)\n",
    "mean(pr)"
   ]
  },
  {
   "cell_type": "code",
   "execution_count": 4,
   "id": "b4d5fd06",
   "metadata": {},
   "outputs": [
    {
     "data": {
      "text/plain": [
       "0.9420675154862345"
      ]
     },
     "execution_count": 4,
     "metadata": {},
     "output_type": "execute_result"
    }
   ],
   "source": [
    "rc=cross_val_score(ensemble, X, y, scoring='recall', cv=cv, n_jobs=-1)\n",
    "mean(rc)"
   ]
  },
  {
   "cell_type": "code",
   "execution_count": 5,
   "id": "019bd0aa",
   "metadata": {},
   "outputs": [
    {
     "data": {
      "text/plain": [
       "0.9427932740065981"
      ]
     },
     "execution_count": 5,
     "metadata": {},
     "output_type": "execute_result"
    }
   ],
   "source": [
    "f1=cross_val_score(ensemble, X, y, scoring='f1', cv=cv, n_jobs=-1)\n",
    "mean(f1)"
   ]
  },
  {
   "cell_type": "code",
   "execution_count": null,
   "id": "1c8cbff4",
   "metadata": {},
   "outputs": [],
   "source": []
  },
  {
   "cell_type": "code",
   "execution_count": null,
   "id": "7caf0201",
   "metadata": {},
   "outputs": [],
   "source": []
  }
 ],
 "metadata": {
  "kernelspec": {
   "display_name": "Python 3 (ipykernel)",
   "language": "python",
   "name": "python3"
  },
  "language_info": {
   "codemirror_mode": {
    "name": "ipython",
    "version": 3
   },
   "file_extension": ".py",
   "mimetype": "text/x-python",
   "name": "python",
   "nbconvert_exporter": "python",
   "pygments_lexer": "ipython3",
   "version": "3.9.12"
  }
 },
 "nbformat": 4,
 "nbformat_minor": 5
}
